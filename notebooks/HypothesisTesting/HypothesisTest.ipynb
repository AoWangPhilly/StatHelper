{
 "cells": [
  {
   "cell_type": "markdown",
   "id": "d54c2992-8328-4d4a-a840-8b7624e0ac7b",
   "metadata": {},
   "source": [
    "# Hypothesis Testing for Population Mean\n",
    "\n",
    "* Goal is to evaluate the validity of a claim about a population\n",
    "1. Testing whether a vaccine is effective or not\n",
    "2. Testing whether frogs in higher latituses have higher infection rates or not"
   ]
  },
  {
   "cell_type": "markdown",
   "id": "8ae23852-553b-44b9-a677-ddf302af89a4",
   "metadata": {},
   "source": [
    "We have a pair of hypothesis: Mutually Exclusive and Exhuastive\n",
    "\n",
    "\n",
    "1. Null Hypothesis $(H_0)$\n",
    "    - Attempt to disprove\n",
    "    - Must always have equaility sign because it must allow us to generate a single probability distribution\n",
    "    - $H_0: \\mu = 100$\n",
    "    - $H_0: \\mu \\leq 100$\n",
    "    \n",
    "2. Alternative Hypothesis $(H_a)$\n",
    "    - Opposite of $H_0$\n",
    "    - Where we hope to find evidence\n",
    "    - $H_a: \\mu \\ne 100$\n",
    "    - $H_a: \\mu \\gt 100$\n",
    "\n",
    "Goal is to not prove $H_a$ but to disprove $H_0$\n",
    "\n",
    "We either reject $H_0$ or fail to reject $H_0$"
   ]
  },
  {
   "cell_type": "markdown",
   "id": "c8934eac-8bc3-405a-aace-734d591e1bd5",
   "metadata": {},
   "source": [
    "## Steps\n",
    "1. Assume $H_0$ is true\n",
    "2. Collect sample data\n",
    "3. Ask what is chance of obtaining the given data if null hypothesis is true?\n",
    "4. Small chance, then reject $H_0$ at reasonable significance level\n",
    "5. Not so small chance, then don't reject or accept null hypothesis\n"
   ]
  },
  {
   "cell_type": "code",
   "execution_count": 18,
   "id": "024bc4c6-7dba-4983-8b3e-2d5dfe86cb4a",
   "metadata": {},
   "outputs": [],
   "source": [
    "from ConfidenceInterval.SingleMean import SingleMean\n",
    "from typing import Tuple"
   ]
  },
  {
   "cell_type": "code",
   "execution_count": 24,
   "id": "c82525d9-9ef7-4564-8471-8106c7c862bd",
   "metadata": {},
   "outputs": [],
   "source": [
    "def is_in_confidence_interval(confidence_interval: Tuple[float, float], value: float) -> bool:\n",
    "    lower, upper = confidence_interval\n",
    "    return value > lower and value < upper"
   ]
  },
  {
   "cell_type": "code",
   "execution_count": 50,
   "id": "77a4b001-462f-4778-9417-c6f6b8541740",
   "metadata": {},
   "outputs": [],
   "source": [
    "def hypothesis_testing_for_mean(\n",
    "    claimed_mean: float,\n",
    "    sample_mean: float,\n",
    "    sample_variance: float,\n",
    "    confidence_level: float,\n",
    "    sample_size: int,\n",
    "    tails: str,\n",
    "    score: str\n",
    ") -> bool:\n",
    "    single_mean = SingleMean(mean=sample_mean, \n",
    "                             variance=sample_variance,\n",
    "                             sample_size=sample_size,\n",
    "                             score=score, \n",
    "                             confidence_level=confidence_level,\n",
    "                             tails=tails)\n",
    "    # # Testing with CI\n",
    "    print(f\"{single_mean.confidence_interval=}\")\n",
    "    print(f\"{single_mean.critical_value=}\")\n",
    "    # return not is_in_confidence_interval(single_mean.confidence_interval, mean)\n",
    "    \n",
    "    test_statistic = (sample_mean - claimed_mean)/single_mean.standard_error\n",
    "    test_star = single_mean.critical_value\n",
    "    \n",
    "    print(f\"{test_statistic=}\")\n",
    "    if tails == \"=\":\n",
    "        return test_statistic < -test_star or test_statistic > test_star\n",
    "    elif tails == \">=\":   \n",
    "        return test_statistic < test_star\n",
    "    return test_statistic > test_star\n",
    "        \n",
    "    "
   ]
  },
  {
   "cell_type": "code",
   "execution_count": 33,
   "id": "0507dbe5-4399-417b-ac3c-393d45462c76",
   "metadata": {},
   "outputs": [
    {
     "name": "stdout",
     "output_type": "stream",
     "text": [
      "test_statistic=4.761904761904758\n"
     ]
    },
    {
     "data": {
      "text/plain": [
       "True"
      ]
     },
     "execution_count": 33,
     "metadata": {},
     "output_type": "execute_result"
    }
   ],
   "source": [
    "hypothesis_testing_for_mean(claimed_mean=120, \n",
    "                            sample_mean=130.1,\n",
    "                            sample_variance=21.21**2,\n",
    "                            confidence_level=0.95,\n",
    "                            sample_size=100,\n",
    "                            tails=\"=\",\n",
    "                            score=\"t\")"
   ]
  },
  {
   "cell_type": "code",
   "execution_count": 35,
   "id": "660219f5-e92e-477b-8e1c-98abbc7f784c",
   "metadata": {},
   "outputs": [
    {
     "name": "stdout",
     "output_type": "stream",
     "text": [
      "test_statistic=-2.8\n"
     ]
    },
    {
     "data": {
      "text/plain": [
       "True"
      ]
     },
     "execution_count": 35,
     "metadata": {},
     "output_type": "execute_result"
    }
   ],
   "source": [
    "hypothesis_testing_for_mean(claimed_mean=75, \n",
    "                            sample_mean=68,\n",
    "                            sample_variance=10**2,\n",
    "                            confidence_level=0.95,\n",
    "                            sample_size=16,\n",
    "                            tails=\">=\",\n",
    "                            score=\"z\")"
   ]
  },
  {
   "cell_type": "code",
   "execution_count": 36,
   "id": "7bf9f8a5-8829-4dde-be74-3482f26d88e0",
   "metadata": {},
   "outputs": [
    {
     "name": "stdout",
     "output_type": "stream",
     "text": [
      "test_statistic=-2.0\n"
     ]
    },
    {
     "data": {
      "text/plain": [
       "True"
      ]
     },
     "execution_count": 36,
     "metadata": {},
     "output_type": "execute_result"
    }
   ],
   "source": [
    "hypothesis_testing_for_mean(claimed_mean=65000, \n",
    "                            sample_mean=64000,\n",
    "                            sample_variance=4000**2,\n",
    "                            confidence_level=0.95,\n",
    "                            sample_size=64,\n",
    "                            tails=\">=\",\n",
    "                            score=\"z\")"
   ]
  },
  {
   "cell_type": "code",
   "execution_count": 39,
   "id": "94522586-1836-401d-a7ec-b66dc9d24b09",
   "metadata": {},
   "outputs": [
    {
     "name": "stdout",
     "output_type": "stream",
     "text": [
      "single_mean.confidence_interval=(65.0310015740794, inf)\n",
      "test_statistic=1.9830532015051943\n"
     ]
    },
    {
     "data": {
      "text/plain": [
       "True"
      ]
     },
     "execution_count": 39,
     "metadata": {},
     "output_type": "execute_result"
    }
   ],
   "source": [
    "hypothesis_testing_for_mean(claimed_mean=60,\n",
    "                            sample_mean=62.75,\n",
    "                            sample_variance=10**2,\n",
    "                            confidence_level=0.95,\n",
    "                            sample_size=52,\n",
    "                            tails=\"<=\",\n",
    "                            score=\"z\")"
   ]
  },
  {
   "cell_type": "code",
   "execution_count": 51,
   "id": "8755afd7-955c-4f35-a064-5703ac04e0dd",
   "metadata": {},
   "outputs": [
    {
     "name": "stdout",
     "output_type": "stream",
     "text": [
      "single_mean.confidence_interval=(3.556180784990863, 5.043819215009137)\n",
      "single_mean.critical_value=1.8595480375228424\n",
      "test_statistic=0.7499999999999996\n"
     ]
    },
    {
     "data": {
      "text/plain": [
       "False"
      ]
     },
     "execution_count": 51,
     "metadata": {},
     "output_type": "execute_result"
    }
   ],
   "source": [
    "hypothesis_testing_for_mean(claimed_mean=4,\n",
    "                            sample_mean=4.3,\n",
    "                            sample_variance=1.2**2,\n",
    "                            confidence_level=0.9,\n",
    "                            sample_size=9,\n",
    "                            tails=\"=\",\n",
    "                            score=\"t\")"
   ]
  },
  {
   "cell_type": "code",
   "execution_count": null,
   "id": "d4fbfbf7-4b2d-4726-8729-a1d51f923498",
   "metadata": {},
   "outputs": [],
   "source": []
  }
 ],
 "metadata": {
  "kernelspec": {
   "display_name": "Python 3 (ipykernel)",
   "language": "python",
   "name": "python3"
  },
  "language_info": {
   "codemirror_mode": {
    "name": "ipython",
    "version": 3
   },
   "file_extension": ".py",
   "mimetype": "text/x-python",
   "name": "python",
   "nbconvert_exporter": "python",
   "pygments_lexer": "ipython3",
   "version": "3.8.9"
  }
 },
 "nbformat": 4,
 "nbformat_minor": 5
}
