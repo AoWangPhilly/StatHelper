{
 "cells": [
  {
   "cell_type": "markdown",
   "id": "96d73280-85e0-4dce-875b-ea6af871c8aa",
   "metadata": {},
   "source": [
    "# P-Value and Type of Error with Hypothesis Test"
   ]
  },
  {
   "cell_type": "markdown",
   "id": "85c96f43-d5fe-402c-b3c9-049b4a7dc671",
   "metadata": {},
   "source": [
    "P-value is the $P(Z \\ge Z_\\text{Statistic})$ and if the p-value is less than the $\\alpha$ then we reject the null hypothesis\n",
    "\n",
    "If p is low, the $H_0$ must go"
   ]
  },
  {
   "cell_type": "code",
   "execution_count": 3,
   "id": "2109c1ea-8c5b-480f-95f5-f6328d8c77b3",
   "metadata": {},
   "outputs": [],
   "source": [
    "import scipy.stats as st\n",
    "from ConfidenceInterval.SingleMean import SingleMean"
   ]
  },
  {
   "cell_type": "code",
   "execution_count": 2,
   "id": "5ef79038-019d-4d76-8175-034dc64eb5dd",
   "metadata": {},
   "outputs": [
    {
     "data": {
      "text/plain": [
       "0.023683714769589748"
      ]
     },
     "execution_count": 2,
     "metadata": {},
     "output_type": "execute_result"
    }
   ],
   "source": [
    "1 - st.norm.cdf(1.983)"
   ]
  },
  {
   "cell_type": "code",
   "execution_count": 8,
   "id": "555a8e80-077c-4238-a0c5-451ae29c7b47",
   "metadata": {},
   "outputs": [
    {
     "data": {
      "text/plain": [
       "0.4747311849259046"
      ]
     },
     "execution_count": 8,
     "metadata": {},
     "output_type": "execute_result"
    }
   ],
   "source": [
    "2 * (1 - st.t.cdf(0.75, 8))"
   ]
  },
  {
   "cell_type": "code",
   "execution_count": 60,
   "id": "bd7845ad-a27b-4824-bf38-e151131fd009",
   "metadata": {},
   "outputs": [],
   "source": [
    "def get_p_value(\n",
    "    claimed_mean: float,\n",
    "    sample_mean: float,\n",
    "    sample_variance: float,\n",
    "    sample_size: float,\n",
    "    confidence_level: float,\n",
    "    score: str,\n",
    "    tails: str\n",
    ") -> float:\n",
    "    single_mean = SingleMean(mean=sample_mean, \n",
    "                             variance=sample_variance,\n",
    "                             sample_size=sample_size,\n",
    "                             score=score, \n",
    "                             confidence_level=confidence_level,\n",
    "                             tails=tails)    \n",
    "\n",
    "    test_statistic = (sample_mean - claimed_mean)/single_mean.standard_error\n",
    "    critical_func = (lambda x: st.t.cdf(x, sample_size-1)) if score == \"t\" else lambda x: st.norm.cdf(x)\n",
    "    if tails == \"=\":\n",
    "        return 2 * (1 - critical_func(test_statistic))\n",
    "    elif tails == \"<=\":\n",
    "        return 1 - critical_func(test_statistic)\n",
    "    return critical_func(test_statistic)"
   ]
  },
  {
   "cell_type": "code",
   "execution_count": 58,
   "id": "a2125e67-865f-45e1-8b78-f3f24478f722",
   "metadata": {},
   "outputs": [
    {
     "data": {
      "text/plain": [
       "0.023680743614172495"
      ]
     },
     "execution_count": 58,
     "metadata": {},
     "output_type": "execute_result"
    }
   ],
   "source": [
    "get_p_value(\n",
    "    claimed_mean=60, \n",
    "    sample_mean=62.75,\n",
    "    sample_variance=10**2,\n",
    "    sample_size=52,\n",
    "    confidence_level=0.95,\n",
    "    score=\"z\",\n",
    "    tails=\"<=\"\n",
    ")"
   ]
  },
  {
   "cell_type": "code",
   "execution_count": 59,
   "id": "f83c5626-6fcf-416d-8f5c-5e7bb78969af",
   "metadata": {},
   "outputs": [
    {
     "data": {
      "text/plain": [
       "0.47473118492590505"
      ]
     },
     "execution_count": 59,
     "metadata": {},
     "output_type": "execute_result"
    }
   ],
   "source": [
    "get_p_value(\n",
    "    claimed_mean=4, \n",
    "    sample_mean=4.3,\n",
    "    sample_variance=1.2**2,\n",
    "    sample_size=9,\n",
    "    confidence_level=0.9,\n",
    "    score=\"t\",\n",
    "    tails=\"=\"\n",
    ")"
   ]
  },
  {
   "cell_type": "markdown",
   "id": "972a97ac-34c7-4af2-be0d-1c9211f4ab68",
   "metadata": {},
   "source": [
    "## Types of Error"
   ]
  },
  {
   "cell_type": "markdown",
   "id": "d118b65a-7927-4627-a050-d0bb47d38f8e",
   "metadata": {},
   "source": [
    "* Type I error is when the null hypothesis is true, but we end up rejecting the null hypothesis\n",
    "    - i.e. convicting an innocent person\n",
    "    - $P(\\text{Type 1 Error}) = P(\\text{Reject } H_0 | H_0 \\text{ is true} ) = \\alpha$\n",
    "* Type II error is when the null hypothesis is false, but we fail to reject the null hypothesis\n",
    "    - i.e. failing to convict a guilty person\n",
    "    - $P(\\text{Type 2 Error}) = P(\\text{Fail to Reject } H_0 | H_0 \\text{ is false}) = \\beta$\n",
    "    \n",
    "    \n",
    "* If $\\alpha$ increases, $\\beta$ decreases\n",
    "* If $\\alpha$ decreases, $\\beta$ increases"
   ]
  },
  {
   "cell_type": "markdown",
   "id": "a102b837-9980-467d-b109-2440210e864d",
   "metadata": {},
   "source": [
    "## Power\n",
    "Power of a test is the probability of correcrly rejecting a false null hypothesis.\n",
    "\n",
    "Power = $P(\\text{reject } H_0 | H_a \\text{ is true}) = 1 - \\beta$"
   ]
  },
  {
   "cell_type": "code",
   "execution_count": 61,
   "id": "fdf41839-9f36-4b68-a02f-4f5204ef02b2",
   "metadata": {},
   "outputs": [
    {
     "name": "stdout",
     "output_type": "stream",
     "text": [
      "0.3612399686876647\n"
     ]
    },
    {
     "data": {
      "text/plain": [
       "0.02275013194817921"
      ]
     },
     "execution_count": 61,
     "metadata": {},
     "output_type": "execute_result"
    }
   ],
   "source": [
    "get_p_value(claimed_mean=100,\n",
    "            sample_mean=108,\n",
    "            sample_variance=16**2,\n",
    "            sample_size=16,\n",
    "            confidence_level=0.95,\n",
    "            score=\"z\",\n",
    "            tails=\"<=\")"
   ]
  },
  {
   "cell_type": "code",
   "execution_count": 64,
   "id": "b69f24b0-000a-4f4f-bbfa-86aa706a7800",
   "metadata": {},
   "outputs": [],
   "source": [
    "def β(\n",
    "    claimed_mean: float,\n",
    "    sample_mean: float,\n",
    "    sample_variance: float,\n",
    "    sample_size: float,\n",
    "    confidence_level: float,\n",
    "    score: str,\n",
    "    tails: str\n",
    ") -> float: \n",
    "    single_mean = SingleMean(mean=sample_mean, \n",
    "                         variance=sample_variance,\n",
    "                         sample_size=sample_size,\n",
    "                         score=score, \n",
    "                         confidence_level=confidence_level,\n",
    "                         tails=tails)    \n",
    "    \n",
    "    if tails == \"<=\":\n",
    "        return st.norm.cdf((claimed_mean-sample_mean)/single_mean.standard_error +\n",
    "                       single_mean.critical_value)\n",
    "    elif tails == \">=\":\n",
    "        return 1 - st.norm.cdf((claimed_mean-sample_mean)/single_mean.standard_error -\n",
    "                       single_mean.critical_value)\n",
    "    return st.norm.cdf((claimed_mean-sample_mean)/single_mean.standard_error +\n",
    "                       single_mean.critical_value) -\\\n",
    "           st.norm.cdf((claimed_mean-sample_mean)/single_mean.standard_error -\n",
    "                       single_mean.critical_value)\n"
   ]
  },
  {
   "cell_type": "code",
   "execution_count": null,
   "id": "40be738c-f9aa-4f4f-be3e-51b3e54f9745",
   "metadata": {},
   "outputs": [],
   "source": []
  }
 ],
 "metadata": {
  "kernelspec": {
   "display_name": "Python 3 (ipykernel)",
   "language": "python",
   "name": "python3"
  },
  "language_info": {
   "codemirror_mode": {
    "name": "ipython",
    "version": 3
   },
   "file_extension": ".py",
   "mimetype": "text/x-python",
   "name": "python",
   "nbconvert_exporter": "python",
   "pygments_lexer": "ipython3",
   "version": "3.8.9"
  }
 },
 "nbformat": 4,
 "nbformat_minor": 5
}
