{
 "cells": [
  {
   "cell_type": "markdown",
   "id": "222fd805-7263-4fd9-ac43-9e63c1e1abf5",
   "metadata": {},
   "source": [
    "# Confidence Intervals for Two Population Variances"
   ]
  },
  {
   "cell_type": "code",
   "execution_count": 44,
   "id": "62b4138b-4a2e-45dd-ae8c-09ce88254f2e",
   "metadata": {},
   "outputs": [],
   "source": [
    "import scipy.stats as st\n",
    "from typing import Tuple"
   ]
  },
  {
   "cell_type": "code",
   "execution_count": 48,
   "id": "0495f5b2-b638-4447-bd88-b366cc3629d6",
   "metadata": {},
   "outputs": [],
   "source": [
    "def get_f_critical_value(\n",
    "    confidence_level: float,\n",
    "    dfn: int,\n",
    "    dfm: int\n",
    ") -> float:\n",
    "    return st.f.ppf(q=1-(1-confidence_level)/2, dfn=dfn, dfd=dfm)"
   ]
  },
  {
   "cell_type": "code",
   "execution_count": 52,
   "id": "0a33bdbb-838a-49ab-8c7f-ae9fed367884",
   "metadata": {},
   "outputs": [],
   "source": [
    "def find_confidence_interval_for_variance_ratio(\n",
    "    sample_variance_x: float,\n",
    "    sample_variance_y: float,\n",
    "    confidence_level: float,\n",
    "    sample_size_n: int,\n",
    "    sample_size_m: int\n",
    ") -> Tuple[float, float]:\n",
    "    f_critical_value_1 = get_f_critical_value(\n",
    "        confidence_level=confidence_level,\n",
    "        dfn=sample_size_n-1,\n",
    "        dfm=sample_size_m-1\n",
    "    )\n",
    "    \n",
    "    f_critical_value_2 = get_f_critical_value(\n",
    "        confidence_level=confidence_level,\n",
    "        dfn=sample_size_m-1,\n",
    "        dfm=sample_size_n-1\n",
    "    )\n",
    "    return ((1/f_critical_value_1) * sample_variance_x/sample_variance_y,\n",
    "            f_critical_value_2 * sample_variance_x/sample_variance_y) "
   ]
  },
  {
   "cell_type": "code",
   "execution_count": 53,
   "id": "a526e520-da7f-447c-b9b8-2c7b2cca6a9c",
   "metadata": {},
   "outputs": [
    {
     "data": {
      "text/plain": [
       "(0.4334780396566579, 7.026084708199053)"
      ]
     },
     "execution_count": 53,
     "metadata": {},
     "output_type": "execute_result"
    }
   ],
   "source": [
    "find_confidence_interval_for_variance_ratio(\n",
    "    sample_variance_x=2.51**2,\n",
    "    sample_variance_y=1.9**2,\n",
    "    confidence_level=0.95,\n",
    "    sample_size_n=10,\n",
    "    sample_size_m=10\n",
    ")"
   ]
  },
  {
   "cell_type": "code",
   "execution_count": null,
   "id": "de9dd676-921f-48c0-9071-558bf878dc51",
   "metadata": {},
   "outputs": [],
   "source": []
  }
 ],
 "metadata": {
  "kernelspec": {
   "display_name": "Python 3 (ipykernel)",
   "language": "python",
   "name": "python3"
  },
  "language_info": {
   "codemirror_mode": {
    "name": "ipython",
    "version": 3
   },
   "file_extension": ".py",
   "mimetype": "text/x-python",
   "name": "python",
   "nbconvert_exporter": "python",
   "pygments_lexer": "ipython3",
   "version": "3.8.9"
  }
 },
 "nbformat": 4,
 "nbformat_minor": 5
}
