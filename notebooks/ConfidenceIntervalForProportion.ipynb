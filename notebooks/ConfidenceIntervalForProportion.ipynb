{
 "cells": [
  {
   "cell_type": "markdown",
   "id": "0bffc1f0-8df7-4628-a46b-b6bec5bf76f7",
   "metadata": {},
   "source": []
  },
  {
   "cell_type": "code",
   "execution_count": 6,
   "id": "df7a5a34-79fd-4de8-9f07-b30b94f1d989",
   "metadata": {},
   "outputs": [],
   "source": [
    "import scipy.stats as st\n",
    "from numpy import sqrt, ceil\n",
    "from typing import Tuple"
   ]
  },
  {
   "cell_type": "code",
   "execution_count": 2,
   "id": "b9062a37-f260-4ed0-8b0a-7758ef9fc781",
   "metadata": {},
   "outputs": [],
   "source": [
    "def get_critical_z(confidence_level: float):\n",
    "    return st.norm.ppf(confidence_level + (1-confidence_level)/2)"
   ]
  },
  {
   "cell_type": "code",
   "execution_count": 3,
   "id": "ce0ac8e3-9b5a-44d6-b581-5fde4842b6ef",
   "metadata": {},
   "outputs": [],
   "source": [
    "def find_error(\n",
    "    proportion: float,\n",
    "    confidence_level: float,\n",
    "    n: int\n",
    ") -> float:\n",
    "    critical_z = get_critical_z(confidence_level)\n",
    "    return critical_z*sqrt(proportion*(1-proportion)/n)"
   ]
  },
  {
   "cell_type": "code",
   "execution_count": 7,
   "id": "142f8bf7-9722-4364-a749-e589edce8e6c",
   "metadata": {},
   "outputs": [],
   "source": [
    "def get_traditional_confidence_interval(\n",
    "    proportion: float, \n",
    "    confidence_level: float, \n",
    "    n: int\n",
    ") -> Tuple[float, float]:\n",
    "    ϵ = find_error(proportion=proportion, confidence_level=confidence_level, n=n)\n",
    "    return (proportion-ϵ, proportion+ϵ)"
   ]
  },
  {
   "cell_type": "code",
   "execution_count": 8,
   "id": "a4faae7a-51f0-4e5b-8ae1-1560d8439805",
   "metadata": {},
   "outputs": [
    {
     "data": {
      "text/plain": [
       "(0.6247745576792417, 0.7149383609810455)"
      ]
     },
     "execution_count": 8,
     "metadata": {},
     "output_type": "execute_result"
    }
   ],
   "source": [
    "get_traditional_confidence_interval(proportion=280/418, confidence_level=0.95, n=418)"
   ]
  },
  {
   "cell_type": "code",
   "execution_count": 10,
   "id": "c7e4e698-67b0-4396-a525-e2e2bad86628",
   "metadata": {},
   "outputs": [],
   "source": [
    "def find_sample_size_with_error(\n",
    "    proportion: float, \n",
    "    confidence_level: float,\n",
    "    ϵ: float\n",
    ") -> int:\n",
    "    z = get_critical_z(confidence_level=confidence_level)\n",
    "    return ceil(z**2 * proportion * (1-proportion) / ϵ**2)"
   ]
  },
  {
   "cell_type": "code",
   "execution_count": 11,
   "id": "8c07724a-92d0-4371-ae4a-73c8ede166cd",
   "metadata": {},
   "outputs": [
    {
     "data": {
      "text/plain": [
       "683.0"
      ]
     },
     "execution_count": 11,
     "metadata": {},
     "output_type": "execute_result"
    }
   ],
   "source": [
    "find_sample_size_with_error(proportion=0.8, confidence_level=0.95, ϵ=0.03)"
   ]
  },
  {
   "cell_type": "code",
   "execution_count": 12,
   "id": "8e5de4dd-a8a8-41e8-80ac-0e0693bb94f7",
   "metadata": {},
   "outputs": [
    {
     "data": {
      "text/plain": [
       "1068.0"
      ]
     },
     "execution_count": 12,
     "metadata": {},
     "output_type": "execute_result"
    }
   ],
   "source": [
    "find_sample_size_with_error(proportion=0.5, confidence_level=0.95, ϵ=0.03)"
   ]
  },
  {
   "cell_type": "code",
   "execution_count": 13,
   "id": "d025baa3-815b-4128-84e4-3838ef20f719",
   "metadata": {},
   "outputs": [],
   "source": [
    "def get_score_confidence_interval(\n",
    "    proportion: float, \n",
    "    confidence_level: float,\n",
    "    n: int\n",
    ") -> Tuple[float, float]:\n",
    "    z = get_critical_z(confidence_level=confidence_level)\n",
    "    ϵ = z * sqrt(proportion*(1-proportion)/n + z**2/(4*n**2))\n",
    "    return ((proportion + z**2/(2*n) - ϵ)/(1+z**2/n), (proportion + z**2/(2*n) + ϵ)/(1+z**2/n))"
   ]
  },
  {
   "cell_type": "code",
   "execution_count": 14,
   "id": "48291eac-a040-4f35-a1c3-4ca797dc4853",
   "metadata": {},
   "outputs": [
    {
     "data": {
      "text/plain": [
       "(0.21676780694818568, 0.4745989029405201)"
      ]
     },
     "execution_count": 14,
     "metadata": {},
     "output_type": "execute_result"
    }
   ],
   "source": [
    "get_score_confidence_interval(proportion=1/3, confidence_level=0.95, n=48)"
   ]
  },
  {
   "cell_type": "code",
   "execution_count": 15,
   "id": "c4f4153e-a589-4ba9-a516-2b982065ed07",
   "metadata": {},
   "outputs": [],
   "source": [
    "def get_width_of_traditional_ci(\n",
    "    proportion: float, \n",
    "    confidence_level: float, \n",
    "    n: int\n",
    ") -> float:\n",
    "    return 2 * get_critical_z(confidence_level) * sqrt(proportion*(1-proportion)/n)"
   ]
  },
  {
   "cell_type": "code",
   "execution_count": 16,
   "id": "c2bf5978-9357-4d4b-bba2-5227d6f23ca4",
   "metadata": {},
   "outputs": [],
   "source": [
    "def get_sample_size_from_width_traditional_ci(\n",
    "    proportion: float, \n",
    "    confidence_level: float, \n",
    "    width: float\n",
    ") -> int:\n",
    "    z = get_critical_z(confidence_level)\n",
    "    return 4 * z**2 * proportion * (1-proportion) / width**2"
   ]
  },
  {
   "cell_type": "code",
   "execution_count": 17,
   "id": "c808d096-a91f-41d6-a7b6-ce4415ee3aa6",
   "metadata": {},
   "outputs": [],
   "source": [
    "def get_sample_size_from_width_score_ci(\n",
    "    proportion: float,\n",
    "    confidence_level: float, \n",
    "    width: float\n",
    ") -> int:\n",
    "    z = get_critical_z(confidence_level)\n",
    "    return (2*z**2*proportion*(1-proportion) - z**2*width**2 + sqrt(4*z**4*proportion*(1-proportion)*(proportion*(1-proportion) - width**2)+width**2*z**4))/width**2"
   ]
  },
  {
   "cell_type": "code",
   "execution_count": 18,
   "id": "1bd26a17-1647-49f8-8301-ee8a49b4fdaa",
   "metadata": {},
   "outputs": [
    {
     "data": {
      "text/plain": [
       "2647.3237438074634"
      ]
     },
     "execution_count": 18,
     "metadata": {},
     "output_type": "execute_result"
    }
   ],
   "source": [
    "get_sample_size_from_width_score_ci(proportion=0.5, confidence_level=0.99, width=0.05)"
   ]
  },
  {
   "cell_type": "code",
   "execution_count": 20,
   "id": "8232e142-6255-4999-8a28-cdb023c56116",
   "metadata": {},
   "outputs": [],
   "source": [
    "def find_confidence_interval_for_two_proportions(\n",
    "    p1: float, \n",
    "    p2: float, \n",
    "    confidence_level: float, \n",
    "    n1: int, \n",
    "    n2: int\n",
    ") -> Tuple[float, float]:\n",
    "    ϵ = get_critical_z(confidence_level) * sqrt(p1*(1-p1)/n1 + p2*(1-p2)/n2)\n",
    "    return (p1-p2-ϵ, p1-p2+ϵ)"
   ]
  },
  {
   "cell_type": "code",
   "execution_count": 21,
   "id": "edea1e78-2002-4a0c-93e1-b3e0c6e75e4b",
   "metadata": {},
   "outputs": [
    {
     "data": {
      "text/plain": [
       "(0.20308712709186322, 0.2569128729081368)"
      ]
     },
     "execution_count": 21,
     "metadata": {},
     "output_type": "execute_result"
    }
   ],
   "source": [
    "find_confidence_interval_for_two_proportions(p1=0.4, \n",
    "                                             p2=0.17, \n",
    "                                             confidence_level=0.95, \n",
    "                                             n1=2100, \n",
    "                                             n2=1900)"
   ]
  },
  {
   "cell_type": "code",
   "execution_count": 22,
   "id": "965514d2-d681-4b1d-9249-e19f6251a5f2",
   "metadata": {},
   "outputs": [
    {
     "data": {
      "text/plain": [
       "(0.03479995595572377, 0.37520004404427626)"
      ]
     },
     "execution_count": 22,
     "metadata": {},
     "output_type": "execute_result"
    }
   ],
   "source": [
    "find_confidence_interval_for_two_proportions(p1=0.516, \n",
    "                                             p2=0.311, \n",
    "                                             confidence_level=0.95,\n",
    "                                             n1=62, \n",
    "                                             n2=61)"
   ]
  },
  {
   "cell_type": "code",
   "execution_count": 23,
   "id": "adf29227-e61c-40f3-8cb3-af376c4db3d9",
   "metadata": {},
   "outputs": [
    {
     "data": {
      "text/plain": [
       "0.4"
      ]
     },
     "execution_count": 23,
     "metadata": {},
     "output_type": "execute_result"
    }
   ],
   "source": [
    "10/25\n"
   ]
  },
  {
   "cell_type": "code",
   "execution_count": 24,
   "id": "00091a0c-8e72-4c9d-b43d-d78763cd5701",
   "metadata": {},
   "outputs": [
    {
     "data": {
      "text/plain": [
       "(0.20796353294578765, 0.5920364670542124)"
      ]
     },
     "execution_count": 24,
     "metadata": {},
     "output_type": "execute_result"
    }
   ],
   "source": [
    "get_traditional_confidence_interval(proportion=0.4, confidence_level=0.95, n=25)"
   ]
  },
  {
   "cell_type": "code",
   "execution_count": 25,
   "id": "86154e5c-9277-4070-a2bd-2eb25cd2eb8e",
   "metadata": {},
   "outputs": [
    {
     "data": {
      "text/plain": [
       "(0.2340330237774797, 0.5926054264103301)"
      ]
     },
     "execution_count": 25,
     "metadata": {},
     "output_type": "execute_result"
    }
   ],
   "source": [
    "get_score_confidence_interval(proportion=0.4, confidence_level=0.95, n=25)"
   ]
  },
  {
   "cell_type": "code",
   "execution_count": 26,
   "id": "d34adb35-8c77-42a4-92a8-3ab02be4f903",
   "metadata": {},
   "outputs": [
    {
     "data": {
      "text/plain": [
       "2644.4043893030143"
      ]
     },
     "execution_count": 26,
     "metadata": {},
     "output_type": "execute_result"
    }
   ],
   "source": [
    "get_sample_size_from_width_traditional_ci(proportion=0.53, confidence_level=0.99, width=0.05)"
   ]
  },
  {
   "cell_type": "code",
   "execution_count": 27,
   "id": "bb755dee-b4ed-47ae-9a80-7dd3286badc3",
   "metadata": {},
   "outputs": [
    {
     "data": {
      "text/plain": [
       "2653.958640408485"
      ]
     },
     "execution_count": 27,
     "metadata": {},
     "output_type": "execute_result"
    }
   ],
   "source": [
    "get_sample_size_from_width_traditional_ci(proportion=0.5, confidence_level=0.99, width=0.05)"
   ]
  },
  {
   "cell_type": "code",
   "execution_count": 28,
   "id": "7dd84b53-f386-495c-b724-72b6b6abb4a0",
   "metadata": {},
   "outputs": [
    {
     "data": {
      "text/plain": [
       "2647.3237438074634"
      ]
     },
     "execution_count": 28,
     "metadata": {},
     "output_type": "execute_result"
    }
   ],
   "source": [
    "get_sample_size_from_width_score_ci(proportion=0.5, confidence_level=0.99, width=0.05)"
   ]
  },
  {
   "cell_type": "code",
   "execution_count": 33,
   "id": "746bf54f-9e2b-4880-9b88-c30875a29902",
   "metadata": {},
   "outputs": [
    {
     "data": {
      "text/plain": [
       "(0.021932980135674025, 0.12771394974683992)"
      ]
     },
     "execution_count": 33,
     "metadata": {},
     "output_type": "execute_result"
    }
   ],
   "source": [
    "find_confidence_interval_for_two_proportions(p1=750/1501, p2=407/958, confidence_level=0.99, n1=1501, n2=958)"
   ]
  },
  {
   "cell_type": "code",
   "execution_count": 30,
   "id": "7c79140d-083c-402b-a898-3a13c8b7a165",
   "metadata": {},
   "outputs": [
    {
     "data": {
      "text/plain": [
       "338.10105645188963"
      ]
     },
     "execution_count": 30,
     "metadata": {},
     "output_type": "execute_result"
    }
   ],
   "source": [
    "get_sample_size_from_width_score_ci(proportion=2/3,confidence_level=0.95,width=0.1)"
   ]
  },
  {
   "cell_type": "code",
   "execution_count": 32,
   "id": "3e60d69e-4f95-414d-9556-83555a7f4525",
   "metadata": {},
   "outputs": [
    {
     "data": {
      "text/plain": [
       "1.959963984540054"
      ]
     },
     "execution_count": 32,
     "metadata": {},
     "output_type": "execute_result"
    }
   ],
   "source": [
    "st.norm.ppf(.975)"
   ]
  },
  {
   "cell_type": "code",
   "execution_count": 34,
   "id": "5513a673-80c9-42bd-a076-fc47791c69ef",
   "metadata": {},
   "outputs": [
    {
     "data": {
      "text/plain": [
       "1.7506860712521692"
      ]
     },
     "execution_count": 34,
     "metadata": {},
     "output_type": "execute_result"
    }
   ],
   "source": [
    "st.norm.ppf(.9)"
   ]
  },
  {
   "cell_type": "code",
   "execution_count": null,
   "id": "a00408ac-e564-4a5e-9c42-5262c49b9401",
   "metadata": {},
   "outputs": [],
   "source": []
  },
  {
   "cell_type": "code",
   "execution_count": null,
   "id": "babde9fe-aaf0-4a3f-b50b-29eca12c9a68",
   "metadata": {},
   "outputs": [],
   "source": []
  },
  {
   "cell_type": "code",
   "execution_count": null,
   "id": "6a5be46d-acec-4975-82bf-81c76b3e3827",
   "metadata": {},
   "outputs": [],
   "source": []
  },
  {
   "cell_type": "code",
   "execution_count": null,
   "id": "91790494-80b3-4e0b-9c7f-156ef6d2c0be",
   "metadata": {},
   "outputs": [],
   "source": []
  }
 ],
 "metadata": {
  "kernelspec": {
   "display_name": "Python 3 (ipykernel)",
   "language": "python",
   "name": "python3"
  },
  "language_info": {
   "codemirror_mode": {
    "name": "ipython",
    "version": 3
   },
   "file_extension": ".py",
   "mimetype": "text/x-python",
   "name": "python",
   "nbconvert_exporter": "python",
   "pygments_lexer": "ipython3",
   "version": "3.8.9"
  }
 },
 "nbformat": 4,
 "nbformat_minor": 5
}
