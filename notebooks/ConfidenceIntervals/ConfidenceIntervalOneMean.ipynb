{
 "cells": [
  {
   "cell_type": "markdown",
   "id": "f96c37bb-9666-4c97-8a24-a3cf0d4174e6",
   "metadata": {
    "tags": []
   },
   "source": [
    "# Confidence Intervals for One Mean"
   ]
  },
  {
   "cell_type": "markdown",
   "id": "3f5a2f39-a3f0-47ef-98be-aec77e3d50bd",
   "metadata": {},
   "source": [
    "## Imports"
   ]
  },
  {
   "cell_type": "code",
   "execution_count": 1,
   "id": "5b1a42b2-7a73-487b-be4f-d6022962ca67",
   "metadata": {},
   "outputs": [],
   "source": [
    "import scipy.stats as st\n",
    "import pandas as pd\n",
    "from numpy import sqrt\n",
    "from typing import Tuple"
   ]
  },
  {
   "cell_type": "markdown",
   "id": "7b9ea322-dc89-4413-8529-be2891cc4cab",
   "metadata": {},
   "source": [
    "### A Z-Inteval for a Mean"
   ]
  },
  {
   "cell_type": "markdown",
   "id": "55d6d573-d91e-4d49-8a67-7e4552b8c89f",
   "metadata": {},
   "source": [
    "1) $X_1, X_2, ..., X_n$ is a random sample with mean $\\mu$ and variance $\\sigma^2$\n",
    "2) The population variance $\\sigma^2$ is known\n",
    "\n",
    "Confidence interval for mean $(1-\\alpha)100\\%$ is $\\bar{x} \\pm z_{\\alpha/2}\\big(\\frac{\\sigma}{\\sqrt{n}}\\big)$"
   ]
  },
  {
   "cell_type": "code",
   "execution_count": 2,
   "id": "2d432215-d635-4d33-80bb-7d3621a54303",
   "metadata": {},
   "outputs": [],
   "source": [
    "def get_z_score(confidence_level: float) -> float:\n",
    "    return st.norm.ppf(confidence_level + (1-confidence_level)/2)"
   ]
  },
  {
   "cell_type": "code",
   "execution_count": 3,
   "id": "c9318f1c-75eb-4dba-bbd0-67b4b865d143",
   "metadata": {},
   "outputs": [
    {
     "data": {
      "text/plain": [
       "1.6448536269514722"
      ]
     },
     "execution_count": 3,
     "metadata": {},
     "output_type": "execute_result"
    }
   ],
   "source": [
    "get_z_score(confidence_level=0.9)"
   ]
  },
  {
   "cell_type": "code",
   "execution_count": 4,
   "id": "84aea270-7413-47b2-8b13-d90eb7f65df4",
   "metadata": {},
   "outputs": [
    {
     "data": {
      "text/plain": [
       "1.959963984540054"
      ]
     },
     "execution_count": 4,
     "metadata": {},
     "output_type": "execute_result"
    }
   ],
   "source": [
    "get_z_score(confidence_level=0.95)"
   ]
  },
  {
   "cell_type": "code",
   "execution_count": 5,
   "id": "02d2a70e-183c-4e2f-9600-51d39f28e08a",
   "metadata": {},
   "outputs": [
    {
     "data": {
      "text/plain": [
       "2.5758293035489004"
      ]
     },
     "execution_count": 5,
     "metadata": {},
     "output_type": "execute_result"
    }
   ],
   "source": [
    "get_z_score(confidence_level=0.99)"
   ]
  },
  {
   "cell_type": "code",
   "execution_count": 6,
   "id": "7662a1e1-aa27-4969-9ef9-f1572acb1ec6",
   "metadata": {},
   "outputs": [],
   "source": [
    "def find_margin_of_error_for_z(\n",
    "    confidence_level: float,\n",
    "    variance: float,\n",
    "    sample_size: int\n",
    ") -> float:\n",
    "    z_score = get_z_score(confidence_level=confidence_level)\n",
    "    return z_score * sqrt(variance/sample_size)"
   ]
  },
  {
   "cell_type": "code",
   "execution_count": 7,
   "id": "b1d91b6b-1550-4a2e-a7e6-9dacce2e69d0",
   "metadata": {},
   "outputs": [],
   "source": [
    "def find_confidence_interval_for_one_mean_z(\n",
    "    mean: float,\n",
    "    confidence_level: float,\n",
    "    variance: float,\n",
    "    sample_size: int,\n",
    "    round_by: int=None\n",
    ") -> Tuple[float]:\n",
    "    margin_of_error = find_margin_of_error_for_z(\n",
    "        confidence_level=confidence_level,\n",
    "        variance=variance,\n",
    "        sample_size=sample_size\n",
    "    )\n",
    "    if round_by is None:\n",
    "        return (mean - margin_of_error, mean + margin_of_error)\n",
    "    return (round(mean - margin_of_error, round_by), \n",
    "            round(mean + margin_of_error, round_by))"
   ]
  },
  {
   "cell_type": "code",
   "execution_count": 8,
   "id": "e3393bb7-7d0f-4986-9040-5ab78e2d5758",
   "metadata": {},
   "outputs": [
    {
     "data": {
      "text/plain": [
       "(27.89, 30.51)"
      ]
     },
     "execution_count": 8,
     "metadata": {},
     "output_type": "execute_result"
    }
   ],
   "source": [
    "find_confidence_interval_for_one_mean_z(\n",
    "    mean=29.2,\n",
    "    confidence_level=0.95,\n",
    "    variance=7.5**2,\n",
    "    sample_size=126,\n",
    "    round_by=2\n",
    ")"
   ]
  },
  {
   "cell_type": "code",
   "execution_count": 9,
   "id": "b592dbb3-5af4-4cc1-bcbd-ed14eae55775",
   "metadata": {},
   "outputs": [],
   "source": [
    "def get_interval_length_of_z_interval(\n",
    "    confidence_level: float,\n",
    "    variance: float,\n",
    "    sample_size: int\n",
    ") -> float:\n",
    "    return 2 * find_margin_of_error_for_z(confidence_level=confidence_level,\n",
    "                                          variance=variance,\n",
    "                                          sample_size=sample_size)"
   ]
  },
  {
   "cell_type": "markdown",
   "id": "584d20bb-ad68-4afd-826c-1c1692fa45ca",
   "metadata": {},
   "source": [
    "### A Z-Inteval for a Mean \n",
    "\n",
    "What if $\\sigma$ is unknown?\n",
    "\n",
    "The confidence interval for the population mean $\\mu$ is $\\bar{x} \\pm t_{\\alpha/2, n-1}\\big(\\frac{s}{\\sqrt{n}}\\big)$"
   ]
  },
  {
   "cell_type": "code",
   "execution_count": 10,
   "id": "0b79c44c-ed92-4257-935e-94855a9d210f",
   "metadata": {},
   "outputs": [],
   "source": [
    "def get_critical_t(\n",
    "    confidence_level: float,\n",
    "    sample_size: int\n",
    ") -> float:\n",
    "    return st.t.ppf(q=confidence_level + (1-confidence_level)/2, df=sample_size-1)"
   ]
  },
  {
   "cell_type": "code",
   "execution_count": 11,
   "id": "7a559fb8-3481-4a1f-97cf-1fb8b415f139",
   "metadata": {},
   "outputs": [],
   "source": [
    "def find_margin_of_error_for_t(\n",
    "    confidence_level: float,\n",
    "    sample_variance: float,\n",
    "    sample_size: int\n",
    ") -> float:\n",
    "    critical_t = get_critical_t(confidence_level=confidence_level, sample_size=sample_size)\n",
    "    return critical_t * sqrt(sample_variance/sample_size)"
   ]
  },
  {
   "cell_type": "code",
   "execution_count": 12,
   "id": "26736280-5578-42e4-a34c-922f9c2a90ce",
   "metadata": {},
   "outputs": [],
   "source": [
    "def find_confidence_interval_for_one_mean_t(\n",
    "    mean: float,\n",
    "    confidence_level: float,\n",
    "    sample_variance: float,\n",
    "    sample_size: int,\n",
    "    round_by: int=None\n",
    ") -> Tuple[float]:\n",
    "    margin_of_error = find_margin_of_error_for_t(confidence_level=confidence_level,\n",
    "                                                 sample_variance=sample_variance,\n",
    "                                                 sample_size=sample_size)\n",
    "    if round_by is None:\n",
    "        return (mean - margin_of_error, mean + margin_of_error)\n",
    "    return (round(mean - margin_of_error, round_by), \n",
    "            round(mean + margin_of_error, round_by))"
   ]
  },
  {
   "cell_type": "code",
   "execution_count": 34,
   "id": "2d90eeb1-db4b-4614-9281-4181c515d210",
   "metadata": {},
   "outputs": [
    {
     "data": {
      "text/plain": [
       "(20.18, 21.82)"
      ]
     },
     "execution_count": 34,
     "metadata": {},
     "output_type": "execute_result"
    }
   ],
   "source": [
    "find_confidence_interval_for_one_mean_t(\n",
    "    mean=21,\n",
    "    confidence_level=0.95,\n",
    "    sample_variance=1.76**2,\n",
    "    sample_size=20,\n",
    "    round_by=2\n",
    ")"
   ]
  },
  {
   "cell_type": "code",
   "execution_count": 14,
   "id": "65033036-bda2-4cf1-a128-21b12764cb3c",
   "metadata": {},
   "outputs": [],
   "source": [
    "def get_interval_length_of_t_interval(\n",
    "    confidence_level: float,\n",
    "    sample_variance: float,\n",
    "    sample_size: int\n",
    ") -> float:\n",
    "    return 2 * find_margin_of_error_for_t(confidence_level=confidence_level,\n",
    "                                          sample_variance=sample_variance,\n",
    "                                          sample_size=sample_size)"
   ]
  },
  {
   "cell_type": "code",
   "execution_count": 15,
   "id": "b4da63e2-ee55-4c6b-b9e1-9a01e5f91410",
   "metadata": {},
   "outputs": [
    {
     "data": {
      "text/plain": [
       "(37.06, 38.14)"
      ]
     },
     "execution_count": 15,
     "metadata": {},
     "output_type": "execute_result"
    }
   ],
   "source": [
    "find_confidence_interval_for_one_mean_z(\n",
    "    mean=37.6,\n",
    "    confidence_level=0.9, \n",
    "    variance=3.77**2, \n",
    "    sample_size=130,\n",
    "    round_by=2\n",
    ")"
   ]
  },
  {
   "cell_type": "code",
   "execution_count": 16,
   "id": "1533e8ce-5a0f-40af-bc12-9f5ceb38708a",
   "metadata": {},
   "outputs": [
    {
     "data": {
      "text/plain": [
       "(36.95, 38.25)"
      ]
     },
     "execution_count": 16,
     "metadata": {},
     "output_type": "execute_result"
    }
   ],
   "source": [
    "find_confidence_interval_for_one_mean_z(\n",
    "    mean=37.6,\n",
    "    confidence_level=0.95, \n",
    "    variance=3.77**2, \n",
    "    sample_size=130,\n",
    "    round_by=2\n",
    ")"
   ]
  },
  {
   "cell_type": "code",
   "execution_count": 17,
   "id": "76825774-a16b-456d-aa52-d8b1e84f48f8",
   "metadata": {},
   "outputs": [
    {
     "data": {
      "text/plain": [
       "(36.75, 38.45)"
      ]
     },
     "execution_count": 17,
     "metadata": {},
     "output_type": "execute_result"
    }
   ],
   "source": [
    "find_confidence_interval_for_one_mean_z(\n",
    "    mean=37.6,\n",
    "    confidence_level=0.99, \n",
    "    variance=3.77**2, \n",
    "    sample_size=130,\n",
    "    round_by=2\n",
    ")"
   ]
  },
  {
   "cell_type": "code",
   "execution_count": 18,
   "id": "64f10a29-7339-4709-a82a-c0e653813297",
   "metadata": {},
   "outputs": [
    {
     "data": {
      "text/plain": [
       "(4.521, 5.179)"
      ]
     },
     "execution_count": 18,
     "metadata": {},
     "output_type": "execute_result"
    }
   ],
   "source": [
    "find_confidence_interval_for_one_mean_z(\n",
    "    mean=4.85,\n",
    "    confidence_level=0.95, \n",
    "    variance=0.75**2, \n",
    "    sample_size=20,\n",
    "    round_by=3\n",
    ")"
   ]
  },
  {
   "cell_type": "code",
   "execution_count": 19,
   "id": "333b5de1-cc7c-4c05-ad86-90e139159bbc",
   "metadata": {},
   "outputs": [
    {
     "data": {
      "text/plain": [
       "0.3964222346429437"
      ]
     },
     "execution_count": 19,
     "metadata": {},
     "output_type": "execute_result"
    }
   ],
   "source": [
    "get_interval_length_of_z_interval(confidence_level=0.95, sample_size=55, variance=0.75**2)"
   ]
  },
  {
   "cell_type": "code",
   "execution_count": 20,
   "id": "f3f1068e-19d4-4fb0-acb4-f393e2ac7f67",
   "metadata": {},
   "outputs": [
    {
     "data": {
      "text/plain": [
       "1779.4774719067475"
      ]
     },
     "execution_count": 20,
     "metadata": {},
     "output_type": "execute_result"
    }
   ],
   "source": [
    "find_margin_of_error_for_z(sample_size=100, variance=9821**2, confidence_level=0.93)"
   ]
  },
  {
   "cell_type": "code",
   "execution_count": 21,
   "id": "cbf6c8da-af7e-49bc-a466-786d1bdce996",
   "metadata": {},
   "outputs": [
    {
     "data": {
      "text/plain": [
       "(43142.52, 46701.48)"
      ]
     },
     "execution_count": 21,
     "metadata": {},
     "output_type": "execute_result"
    }
   ],
   "source": [
    "find_confidence_interval_for_one_mean_z(mean=44922, \n",
    "                                        confidence_level=0.93,\n",
    "                                        variance=9821**2, \n",
    "                                        sample_size=100, \n",
    "                                        round_by=2)"
   ]
  },
  {
   "cell_type": "code",
   "execution_count": 22,
   "id": "19e73c1b-f32c-496e-8d51-76ba9db61450",
   "metadata": {},
   "outputs": [
    {
     "data": {
      "text/plain": [
       "(98.52, 107.48)"
      ]
     },
     "execution_count": 22,
     "metadata": {},
     "output_type": "execute_result"
    }
   ],
   "source": [
    "find_confidence_interval_for_one_mean_t(mean=103,\n",
    "                                        confidence_level=0.95,\n",
    "                                        sample_variance=12**2, \n",
    "                                        sample_size=30,\n",
    "                                        round_by=2)"
   ]
  },
  {
   "cell_type": "code",
   "execution_count": 23,
   "id": "f01a6e65-7d15-403d-aeee-63280ba872e1",
   "metadata": {},
   "outputs": [],
   "source": [
    "series = pd.Series([25.2, 21.3, 22.8, 17, 29.8, 21, 25.5, 16, 20.9, 19.5])"
   ]
  },
  {
   "cell_type": "code",
   "execution_count": 24,
   "id": "edb402b1-f6de-425c-b466-a9ad19b27442",
   "metadata": {},
   "outputs": [
    {
     "data": {
      "text/plain": [
       "21.9"
      ]
     },
     "execution_count": 24,
     "metadata": {},
     "output_type": "execute_result"
    }
   ],
   "source": [
    "series.mean()"
   ]
  },
  {
   "cell_type": "code",
   "execution_count": 25,
   "id": "925a0693-faa2-4a0c-9ebf-de9d2955ff76",
   "metadata": {},
   "outputs": [
    {
     "data": {
      "text/plain": [
       "4.134139706288494"
      ]
     },
     "execution_count": 25,
     "metadata": {},
     "output_type": "execute_result"
    }
   ],
   "source": [
    "series.std()"
   ]
  },
  {
   "cell_type": "code",
   "execution_count": 26,
   "id": "d9e919d0-4cee-478b-a644-845cbd412287",
   "metadata": {},
   "outputs": [
    {
     "data": {
      "text/plain": [
       "10"
      ]
     },
     "execution_count": 26,
     "metadata": {},
     "output_type": "execute_result"
    }
   ],
   "source": [
    "series.size"
   ]
  },
  {
   "cell_type": "code",
   "execution_count": 27,
   "id": "17f9cb63-cb97-4c6e-9751-46dbc6a5433c",
   "metadata": {},
   "outputs": [
    {
     "data": {
      "text/plain": [
       "(18.943, 24.857)"
      ]
     },
     "execution_count": 27,
     "metadata": {},
     "output_type": "execute_result"
    }
   ],
   "source": [
    "find_confidence_interval_for_one_mean_t(mean=series.mean(), \n",
    "                                        confidence_level=0.95, \n",
    "                                        sample_variance=series.std()**2, \n",
    "                                        sample_size=series.size, \n",
    "                                        round_by=3)"
   ]
  },
  {
   "cell_type": "code",
   "execution_count": 28,
   "id": "63b23354-5c06-4e26-879b-14bcd9378923",
   "metadata": {},
   "outputs": [
    {
     "data": {
      "text/plain": [
       "4.248606733890101"
      ]
     },
     "execution_count": 28,
     "metadata": {},
     "output_type": "execute_result"
    }
   ],
   "source": [
    "find_margin_of_error_for_t(confidence_level=0.99, \n",
    "                           sample_variance=series.std()**2, \n",
    "                           sample_size=series.size)"
   ]
  },
  {
   "cell_type": "code",
   "execution_count": null,
   "id": "ee2726b9-1bfa-4112-a686-7fe6aaeb5a47",
   "metadata": {},
   "outputs": [],
   "source": []
  }
 ],
 "metadata": {
  "kernelspec": {
   "display_name": "Python 3 (ipykernel)",
   "language": "python",
   "name": "python3"
  },
  "language_info": {
   "codemirror_mode": {
    "name": "ipython",
    "version": 3
   },
   "file_extension": ".py",
   "mimetype": "text/x-python",
   "name": "python",
   "nbconvert_exporter": "python",
   "pygments_lexer": "ipython3",
   "version": "3.8.9"
  }
 },
 "nbformat": 4,
 "nbformat_minor": 5
}
