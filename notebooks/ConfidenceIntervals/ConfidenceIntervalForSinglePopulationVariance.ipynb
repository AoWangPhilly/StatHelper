{
 "cells": [
  {
   "cell_type": "markdown",
   "id": "1dd3d353-86d2-4c17-8701-fc000e66c157",
   "metadata": {},
   "source": [
    "# Confidence Intervals for a Single Population Variance $\\sigma^2$"
   ]
  },
  {
   "cell_type": "markdown",
   "id": "83d5b1e9-06ff-499b-9786-dee2847a7fda",
   "metadata": {},
   "source": [
    "$\\left[\\frac{(n-1)s^2}{b}, \\frac{(n-1)s^2}{a}\\right]$\n",
    "\n",
    "$a = \\chi_{1 - \\frac{\\alpha}{2}}^2$\n",
    "\n",
    "$b = \\chi_{\\frac{\\alpha}{2}}^2$"
   ]
  },
  {
   "cell_type": "markdown",
   "id": "a2de28cb-d879-4aa0-834f-7e7b88eabccf",
   "metadata": {},
   "source": [
    "## Import Libraries"
   ]
  },
  {
   "cell_type": "code",
   "execution_count": 10,
   "id": "67b6a7eb-d871-48cc-8e0a-bd2972f197d8",
   "metadata": {},
   "outputs": [],
   "source": [
    "import scipy.stats as st\n",
    "from typing import Dict, Tuple"
   ]
  },
  {
   "cell_type": "code",
   "execution_count": null,
   "id": "3bab0877-7b99-4792-ae75-282db1bfa772",
   "metadata": {},
   "outputs": [],
   "source": [
    "def get_chi_squared_critical_values(\n",
    "    confidence_level: float,\n",
    "    degree_of_freedom: int\n",
    ") -> Dict[str, float]:\n",
    "    b = confidence_level + (1 - confidence_level)/2\n",
    "    a = 1 - b\n",
    "    return {\"a\": st.chi2.ppf(a, degree_of_freedom), \n",
    "            \"b\": st.chi2.ppf(b, degree_of_freedom)}"
   ]
  },
  {
   "cell_type": "code",
   "execution_count": null,
   "id": "3ebd9725-b676-475b-90be-8e2e63c342eb",
   "metadata": {},
   "outputs": [
    {
     "data": {
      "text/plain": [
       "(2.7003894999803584, 19.02276779864163)"
      ]
     },
     "execution_count": 18,
     "metadata": {},
     "output_type": "execute_result"
    }
   ],
   "source": [
    "get_chi_squared_critical_values(0.95, 9)"
   ]
  },
  {
   "cell_type": "code",
   "execution_count": 9,
   "id": "5eb6537e-958f-41ac-bcb3-14d9419221a0",
   "metadata": {},
   "outputs": [],
   "source": [
    "from ConfidenceInterval import ConfidenceInterval\n",
    "from dataclasses import dataclass"
   ]
  },
  {
   "cell_type": "code",
   "execution_count": 11,
   "id": "9346d992-dbe1-4560-8912-0b96b7aa2e46",
   "metadata": {},
   "outputs": [],
   "source": [
    "def find_confidence_interval_for_variance(\n",
    "    sample_variance: float,\n",
    "    confidence_level: float,\n",
    "    sample_size: int\n",
    ") -> Tuple[float, float]:\n",
    "    critical_values = get_chi_squared_critical_values(\n",
    "        confidence_level=confidence_level,\n",
    "        degree_of_freedom=sample_size-1\n",
    "    )\n",
    "    a, b = critical_values[\"a\"], critical_values[\"b\"]\n",
    "    return ((sample_size-1)*sample_variance/b,\n",
    "            (sample_size-1)*sample_variance/a)"
   ]
  },
  {
   "cell_type": "code",
   "execution_count": 12,
   "id": "44811beb-b454-4e45-8711-b08b81f6c253",
   "metadata": {},
   "outputs": [
    {
     "data": {
      "text/plain": [
       "(1.9870925409024447, 13.997980661780439)"
      ]
     },
     "execution_count": 12,
     "metadata": {},
     "output_type": "execute_result"
    }
   ],
   "source": [
    "find_confidence_interval_for_variance(\n",
    "    sample_variance=4.2,\n",
    "    confidence_level=0.95,\n",
    "    sample_size=10\n",
    ")"
   ]
  },
  {
   "cell_type": "code",
   "execution_count": null,
   "id": "f8290688-28ea-4901-8a94-f549ac8b7e3e",
   "metadata": {},
   "outputs": [],
   "source": []
  }
 ],
 "metadata": {
  "kernelspec": {
   "display_name": "Python 3 (ipykernel)",
   "language": "python",
   "name": "python3"
  },
  "language_info": {
   "codemirror_mode": {
    "name": "ipython",
    "version": 3
   },
   "file_extension": ".py",
   "mimetype": "text/x-python",
   "name": "python",
   "nbconvert_exporter": "python",
   "pygments_lexer": "ipython3",
   "version": "3.8.9"
  }
 },
 "nbformat": 4,
 "nbformat_minor": 5
}
