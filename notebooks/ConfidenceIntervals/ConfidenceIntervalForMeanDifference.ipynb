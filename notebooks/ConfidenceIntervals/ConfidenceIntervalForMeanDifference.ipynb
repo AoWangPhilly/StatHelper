{
 "cells": [
  {
   "cell_type": "markdown",
   "id": "835daf17-cedb-49cc-9c93-ccf500f9420b",
   "metadata": {},
   "source": [
    "# Confidence Intervals for Two Means: $\\mu_1 - \\mu_2$"
   ]
  },
  {
   "cell_type": "markdown",
   "id": "528d6bf2-61dc-4b55-b47c-b8e6e47aeada",
   "metadata": {},
   "source": [
    "## Imports"
   ]
  },
  {
   "cell_type": "code",
   "execution_count": 8,
   "id": "b1c55b4f-2438-430a-b0ff-ef0c63d66728",
   "metadata": {},
   "outputs": [],
   "source": [
    "import scipy.stats as st\n",
    "from numpy import sqrt\n",
    "from typing import Tuple"
   ]
  },
  {
   "cell_type": "markdown",
   "id": "ae317268-1d34-4086-bd5e-91d173eae0dd",
   "metadata": {},
   "source": [
    "## Case 1: Populations are Independent and Normally Distributed with Common Variance $\\sigma^2$"
   ]
  },
  {
   "cell_type": "code",
   "execution_count": 6,
   "id": "114424bd-db32-4c1b-8ce6-7c8cdff62f92",
   "metadata": {},
   "outputs": [],
   "source": [
    "def get_pooled_sample_variance(\n",
    "    sample_variance_x: float,\n",
    "    sample_variance_y: float,\n",
    "    sample_size_n: int,\n",
    "    sample_size_m: int\n",
    ") -> float:\n",
    "    return ((sample_size_n - 1) * sample_variance_x + \n",
    "            (sample_size_m - 1) * sample_variance_y) / \\\n",
    "            (sample_size_n + sample_size_m -2)"
   ]
  },
  {
   "cell_type": "code",
   "execution_count": 7,
   "id": "87d2840b-7569-45f2-9446-7122de63732d",
   "metadata": {},
   "outputs": [],
   "source": [
    "def get_t_critical_value_for_two_means_with_same_variance(\n",
    "    confidence_level: float,\n",
    "    sample_size_n: int,\n",
    "    sample_size_m: int\n",
    ") -> float:\n",
    "    return st.t.ppf(q=confidence_level + (1 - confidence_level) / 2,\n",
    "                    df=sample_size_n + sample_size_m - 2)"
   ]
  },
  {
   "cell_type": "code",
   "execution_count": 9,
   "id": "f0e8e9f0-6e16-48e1-8e98-dbaf1c2f53cb",
   "metadata": {},
   "outputs": [],
   "source": [
    "def get_margin_of_error_for_mean_difference_with_same_variance(\n",
    "    confidence_level: float,\n",
    "    sample_variance_x: float,\n",
    "    sample_variance_y: float,\n",
    "    sample_size_n: int,\n",
    "    sample_size_m: int\n",
    ") -> float:\n",
    "    critical_t_value = get_t_critical_value_for_two_means_with_same_variance(\n",
    "        confidence_level=confidence_level,\n",
    "        sample_size_n=sample_size_n,\n",
    "        sample_size_m=sample_size_m\n",
    "    )\n",
    "    pooled_variance = get_pooled_sample_variance(\n",
    "        sample_variance_x=sample_variance_x,\n",
    "        sample_variance_y=sample_variance_y,\n",
    "        sample_size_n=sample_size_n,\n",
    "        sample_size_m=sample_size_m\n",
    "    )\n",
    "    return critical_t_value * sqrt(pooled_variance) * sqrt(1/sample_size_n + 1/sample_size_m)"
   ]
  },
  {
   "cell_type": "code",
   "execution_count": 12,
   "id": "7fdc7469-1e2d-439b-b818-72b30457bd4b",
   "metadata": {},
   "outputs": [],
   "source": [
    "def get_confidence_interval_for_mean_difference_with_same_variance(\n",
    "    mean_x: float,\n",
    "    mean_y: float,\n",
    "    confidence_level: float,\n",
    "    sample_variance_x: float,\n",
    "    sample_variance_y: float,\n",
    "    sample_size_n: int,\n",
    "    sample_size_m: int\n",
    ") -> Tuple[float, float]:\n",
    "    \n",
    "    margin_of_error = get_margin_of_error_for_mean_difference_with_same_variance(\n",
    "        confidence_level=confidence_level,\n",
    "        sample_variance_x=sample_variance_x,\n",
    "        sample_variance_y=sample_variance_y,\n",
    "        sample_size_n=sample_size_n,\n",
    "        sample_size_m=sample_size_m\n",
    "    )\n",
    "    \n",
    "    return (mean_x - mean_y - margin_of_error, \n",
    "            mean_x - mean_y + margin_of_error)"
   ]
  },
  {
   "cell_type": "code",
   "execution_count": 13,
   "id": "8155e915-e267-428a-9b74-a435116857be",
   "metadata": {},
   "outputs": [
    {
     "data": {
      "text/plain": [
       "(-0.8525014771361277, 3.332501477136128)"
      ]
     },
     "execution_count": 13,
     "metadata": {},
     "output_type": "execute_result"
    }
   ],
   "source": [
    "get_confidence_interval_for_mean_difference_with_same_variance(\n",
    "    mean_x=10.26,\n",
    "    mean_y=9.02,\n",
    "    confidence_level=0.95,\n",
    "    sample_variance_x=6.32,\n",
    "    sample_variance_y=3.6,\n",
    "    sample_size_n=10,\n",
    "    sample_size_m=10\n",
    ")"
   ]
  },
  {
   "cell_type": "markdown",
   "id": "de198db3-9908-4b3c-b219-ce45b57a56e3",
   "metadata": {},
   "source": [
    "## Case 2: Populations are Independent and Normally Distributed with Unequal Variances ($\\sigma_X^2 \\ne \\sigma_Y^2$)"
   ]
  },
  {
   "cell_type": "code",
   "execution_count": 16,
   "id": "08cd2860-33fb-4edc-99a0-9b67d74c179e",
   "metadata": {},
   "outputs": [],
   "source": [
    "def get_t_score(\n",
    "        confidence_level: float,\n",
    "        degree_of_freedom: int\n",
    ") -> float:\n",
    "    return st.t.ppf(q=confidence_level + (1 - confidence_level) / 2, df=degree_of_freedom)"
   ]
  },
  {
   "cell_type": "code",
   "execution_count": 20,
   "id": "1bc58666-9dae-4455-8b2b-51e4a71a48f3",
   "metadata": {},
   "outputs": [],
   "source": [
    "def get_degree_of_freedom(\n",
    "    sample_variance_x: float,\n",
    "    sample_variance_y: float,\n",
    "    sample_size_n: int,\n",
    "    sample_size_m: int\n",
    ") -> int:\n",
    "    return int((sample_variance_x/sample_size_n + sample_variance_y/sample_size_m)**2 / \\\n",
    "               ((sample_variance_x/sample_size_n)**2/(sample_size_n-1) +  \n",
    "                (sample_variance_y/sample_size_m)**2/(sample_size_m-1)))"
   ]
  },
  {
   "cell_type": "code",
   "execution_count": 21,
   "id": "92b8ba88-33e7-4027-9f48-eeca68b6f8b0",
   "metadata": {},
   "outputs": [
    {
     "data": {
      "text/plain": [
       "16"
      ]
     },
     "execution_count": 21,
     "metadata": {},
     "output_type": "execute_result"
    }
   ],
   "source": [
    "get_degree_of_freedom(sample_variance_x=6.32, \n",
    "                      sample_variance_y=3.60, \n",
    "                      sample_size_n=10,\n",
    "                      sample_size_m=10)"
   ]
  },
  {
   "cell_type": "code",
   "execution_count": 22,
   "id": "5a5d7efa-bfc6-4748-9e10-f6c0e1965252",
   "metadata": {},
   "outputs": [],
   "source": [
    "def get_margin_of_error_for_mean_difference_with_different_variance(\n",
    "    confidence_level: float,\n",
    "    sample_variance_x: float,\n",
    "    sample_variance_y: float,\n",
    "    sample_size_n: int,\n",
    "    sample_size_m: int\n",
    ") -> float:\n",
    "    degree_of_freedom = get_degree_of_freedom(\n",
    "        sample_variance_x=sample_variance_x,\n",
    "        sample_variance_y=sample_variance_y,\n",
    "        sample_size_n=sample_size_n,\n",
    "        sample_size_m=sample_size_m\n",
    "    )\n",
    "    critical_t = get_t_score(confidence_level=confidence_level, degree_of_freedom=degree_of_freedom)\n",
    "    return critical_t * sqrt(sample_variance_x/sample_size_n + sample_variance_y/sample_size_m)"
   ]
  },
  {
   "cell_type": "code",
   "execution_count": 23,
   "id": "307408be-fe5b-410c-896c-6e5a252b1829",
   "metadata": {},
   "outputs": [],
   "source": [
    "def get_confidence_interval_for_mean_difference_with_different_variance(\n",
    "    mean_x: float,\n",
    "    mean_y: float,\n",
    "    confidence_level: float,\n",
    "    sample_variance_x: float,\n",
    "    sample_variance_y: float,\n",
    "    sample_size_n: int,\n",
    "    sample_size_m: int\n",
    ") -> Tuple[float, float]:\n",
    "    margin_of_error = get_margin_of_error_for_mean_difference_with_different_variance(\n",
    "        confidence_level=confidence_level,\n",
    "        sample_variance_x=sample_variance_x,\n",
    "        sample_variance_y=sample_variance_y,\n",
    "        sample_size_n=sample_size_n,\n",
    "        sample_size_m=sample_size_m\n",
    "    )\n",
    "    return (mean_x - mean_y - margin_of_error, \n",
    "            mean_x - mean_y + margin_of_error)"
   ]
  },
  {
   "cell_type": "code",
   "execution_count": 24,
   "id": "3f3aaee5-824d-435f-aabe-74aace7ba596",
   "metadata": {},
   "outputs": [
    {
     "data": {
      "text/plain": [
       "(-0.871408650603668, 3.3514086506036684)"
      ]
     },
     "execution_count": 24,
     "metadata": {},
     "output_type": "execute_result"
    }
   ],
   "source": [
    "get_confidence_interval_for_mean_difference_with_different_variance(\n",
    "    mean_x=10.26,\n",
    "    mean_y=9.02,\n",
    "    confidence_level=0.95,\n",
    "    sample_variance_x=6.32,\n",
    "    sample_variance_y=3.60,\n",
    "    sample_size_n=10,\n",
    "    sample_size_m=10\n",
    ")"
   ]
  },
  {
   "cell_type": "markdown",
   "id": "274b67c1-4324-4a9e-9314-7d43e9005d40",
   "metadata": {},
   "source": [
    "## Case 3: Populations are Dependent and Normally Distributed\n",
    "* Find the difference, $\\mu_D = \\mu_X - \\mu_Y$\n",
    "* Use the t-interval for one mean, $\\mu_D$\n",
    "\n",
    "$\\bar{d} \\pm t_{\\frac{\\alpha}{2}, n-1}\\big(\\frac{s_d}{\\sqrt{n}}\\big)$"
   ]
  },
  {
   "cell_type": "code",
   "execution_count": null,
   "id": "be713634-bf1f-41c1-8b17-49ba8982c9ca",
   "metadata": {},
   "outputs": [],
   "source": []
  }
 ],
 "metadata": {
  "kernelspec": {
   "display_name": "Python 3 (ipykernel)",
   "language": "python",
   "name": "python3"
  },
  "language_info": {
   "codemirror_mode": {
    "name": "ipython",
    "version": 3
   },
   "file_extension": ".py",
   "mimetype": "text/x-python",
   "name": "python",
   "nbconvert_exporter": "python",
   "pygments_lexer": "ipython3",
   "version": "3.8.9"
  }
 },
 "nbformat": 4,
 "nbformat_minor": 5
}
